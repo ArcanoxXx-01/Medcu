{
 "cells": [
  {
   "cell_type": "code",
   "execution_count": null,
   "id": "35d9b643",
   "metadata": {},
   "outputs": [
    {
     "ename": "ModuleNotFoundError",
     "evalue": "No module named 'app'",
     "output_type": "error",
     "traceback": [
      "\u001b[31m---------------------------------------------------------------------------\u001b[39m",
      "\u001b[31mModuleNotFoundError\u001b[39m                       Traceback (most recent call last)",
      "\u001b[36mCell\u001b[39m\u001b[36m \u001b[39m\u001b[32mIn[6]\u001b[39m\u001b[32m, line 8\u001b[39m\n\u001b[32m      5\u001b[39m dir_raiz = os.path.abspath(os.getcwd())\n\u001b[32m      6\u001b[39m sys.path.append(dir_raiz)\n\u001b[32m----> \u001b[39m\u001b[32m8\u001b[39m \u001b[38;5;28;01mfrom\u001b[39;00m\u001b[38;5;250m \u001b[39m\u001b[34;01mapp\u001b[39;00m\u001b[34;01m.\u001b[39;00m\u001b[34;01magents\u001b[39;00m\u001b[34;01m.\u001b[39;00m\u001b[34;01mquestioner\u001b[39;00m\u001b[34;01m.\u001b[39;00m\u001b[34;01mheuristic_selector\u001b[39;00m\u001b[38;5;250m \u001b[39m\u001b[38;5;28;01mimport\u001b[39;00m Heuristic_Selector\n\u001b[32m      9\u001b[39m \u001b[38;5;28;01mfrom\u001b[39;00m\u001b[38;5;250m \u001b[39m\u001b[34;01mapp\u001b[39;00m\u001b[34;01m.\u001b[39;00m\u001b[34;01magents\u001b[39;00m\u001b[34;01m.\u001b[39;00m\u001b[34;01mquestioner\u001b[39;00m\u001b[34;01m.\u001b[39;00m\u001b[34;01mknowledgegraph\u001b[39;00m\u001b[38;5;250m \u001b[39m\u001b[38;5;28;01mimport\u001b[39;00m KnowledgeGraph\n",
      "\u001b[31mModuleNotFoundError\u001b[39m: No module named 'app'"
     ]
    }
   ],
   "source": [
    "import sys, os, csv, json\n",
    "import matplotlib.pyplot as plt\n",
    "from collections import Counter\n",
    "\n",
    "from app.agents.questioner.heuristic_selector import Heuristic_Selector\n",
    "from app.agents.questioner.knowledgegraph import KnowledgeGraph\n"
   ]
  },
  {
   "cell_type": "code",
   "execution_count": null,
   "id": "8f046b5e",
   "metadata": {},
   "outputs": [],
   "source": [
    "graph = KnowledgeGraph(use_db=False, use_csv=True, db_path=\"../data/embeddings.db\", csv_path=\"../data/edges.csv\")\n",
    "selector = Heuristic_Selector(graph)"
   ]
  },
  {
   "cell_type": "code",
   "execution_count": null,
   "id": "dd3f4c66",
   "metadata": {},
   "outputs": [],
   "source": [
    "# --- Cargar casos de prueba desde archivo JSON ---\n",
    "def cargar_test_cases():\n",
    "    with open(\"casos2.json\", \"r\", encoding=\"utf-8\") as f:\n",
    "        return json.load(f) \n",
    "\n",
    "test_cases = cargar_test_cases()"
   ]
  },
  {
   "cell_type": "code",
   "execution_count": null,
   "id": "7c798ae2",
   "metadata": {},
   "outputs": [],
   "source": [
    "\n",
    "# --- Ejecución de experimentos ---\n",
    "def run_experiments(selector:Heuristic_Selector, test_cases:list[dict], output_path=\"results.json\"):\n",
    "    resultados = []\n",
    "    for test in test_cases:\n",
    "        nombre = test.get(\"nombre\", \"experimento\")\n",
    "        consulta = test.get(\"consulta\", \" \")\n",
    "        agregados = test.get(\"agregados\", [])\n",
    "\n",
    "        nodo = selector.get(initial_entities=consulta, add_entities=agregados)\n",
    "        enfermedades_relevantes = [\n",
    "            n for n in selector.black_nodes\n",
    "            if  (node := selector.graph.nodes.get(n, \"\")) and \"enfermedad\" in node.types and selector.F(n) > 0\n",
    "        ]\n",
    "        score = selector.score_node(nodo, set(enfermedades_relevantes)) if nodo else 0\n",
    "\n",
    "        resultados.append({\n",
    "            \"nombre\": nombre,\n",
    "            \"consulta\": consulta,\n",
    "            \"agregados\": agregados,\n",
    "            \"nodo_seleccionado\": nodo,\n",
    "            \"score\": score,\n",
    "            \"enfermedades_relevantes\": enfermedades_relevantes\n",
    "        })\n",
    "\n",
    "    with open(output_path, \"w\", encoding=\"utf-8\") as f:\n",
    "        json.dump(resultados, f, indent=2, ensure_ascii=False)\n",
    "\n",
    "    print(f\"✔ Resultados guardados en: {output_path}\")\n",
    "\n",
    "run_experiments(selector, test_cases)"
   ]
  },
  {
   "cell_type": "code",
   "execution_count": null,
   "id": "279ca6c7",
   "metadata": {},
   "outputs": [],
   "source": [
    "\n",
    "# --- Exportar a CSV ---\n",
    "def exportar_resultados_a_csv(json_path=\"results.json\", csv_path=\"results.csv\"):\n",
    "    with open(json_path, \"r\", encoding=\"utf-8\") as f:\n",
    "        resultados = json.load(f)\n",
    "\n",
    "    with open(csv_path, \"w\", encoding=\"utf-8\", newline=\"\") as f:\n",
    "        writer = csv.writer(f)\n",
    "        writer.writerow([\"nombre_experimento\", \"consulta\", \"agregados\", \"nodo_seleccionado\", \"score\", \"enfermedades_relevantes\"])\n",
    "        for r in resultados:\n",
    "            writer.writerow([\n",
    "                r[\"nombre\"],\n",
    "                \", \".join(r[\"consulta\"]),\n",
    "                \", \".join(r[\"agregados\"]),\n",
    "                r[\"nodo_seleccionado\"] or \"Ninguno\",\n",
    "                round(r[\"score\"], 4),\n",
    "                \", \".join(r[\"enfermedades_relevantes\"])\n",
    "            ])\n",
    "    print(f\"✔ CSV guardado en: {csv_path}\")\n",
    "\n",
    "exportar_resultados_a_csv()"
   ]
  },
  {
   "cell_type": "code",
   "execution_count": null,
   "id": "2f12ac6f",
   "metadata": {},
   "outputs": [],
   "source": [
    "\n",
    "# --- Gráfica 1: Scores de nodos seleccionados ---\n",
    "def graficar_scores(json_path=\"results.json\"):\n",
    "    with open(json_path, \"r\", encoding=\"utf-8\") as f:\n",
    "        resultados = json.load(f)\n",
    "\n",
    "    nombres = [r[\"nombre\"] for r in resultados]\n",
    "    nodos = [r[\"nodo_seleccionado\"] or \"Ninguno\" for r in resultados]\n",
    "    scores = [r[\"score\"] for r in resultados]\n",
    "\n",
    "    fig, ax = plt.subplots(figsize=(10, 5))\n",
    "    bars = ax.bar(nombres, scores, color=\"skyblue\")\n",
    "    for bar, label in zip(bars, nodos):\n",
    "        ax.text(bar.get_x() + bar.get_width() / 2, bar.get_height() + 0.01, label,\n",
    "                ha=\"center\", va=\"bottom\", fontsize=9, rotation=90)\n",
    "\n",
    "    ax.set_ylabel(\"Score del nodo seleccionado\")\n",
    "    ax.set_title(\"Resultados de selección por experimento\")\n",
    "    plt.xticks(rotation=45, ha=\"right\")\n",
    "    plt.tight_layout()\n",
    "    plt.show()\n",
    "\n",
    "graficar_scores()"
   ]
  },
  {
   "cell_type": "code",
   "execution_count": null,
   "id": "7efe7077",
   "metadata": {},
   "outputs": [],
   "source": [
    "\n",
    "# --- Gráfica 2: Cantidad de enfermedades relevantes ---\n",
    "def graficar_enfermedades_relevantes(json_path=\"results.json\"):\n",
    "    with open(json_path, \"r\", encoding=\"utf-8\") as f:\n",
    "        resultados = json.load(f)\n",
    "\n",
    "    nombres = [r[\"nombre\"] for r in resultados]\n",
    "    counts = [len(r[\"enfermedades_relevantes\"]) for r in resultados]\n",
    "\n",
    "    fig, ax = plt.subplots(figsize=(10, 4))\n",
    "    ax.bar(nombres, counts, color=\"lightgreen\")\n",
    "    ax.set_ylabel(\"Cantidad de enfermedades relevantes\")\n",
    "    ax.set_title(\"Distribución de enfermedades relevantes por experimento\")\n",
    "    plt.xticks(rotation=45, ha=\"right\")\n",
    "    plt.tight_layout()\n",
    "    plt.show()\n",
    "\n",
    "graficar_enfermedades_relevantes()"
   ]
  },
  {
   "cell_type": "code",
   "execution_count": null,
   "id": "6c90dd82",
   "metadata": {},
   "outputs": [],
   "source": [
    "# --- Gráfica 3: Frecuencia de nodos seleccionados ---\n",
    "def graficar_frecuencia_nodos(json_path=\"results.json\", top_k=10):\n",
    "    with open(json_path, \"r\", encoding=\"utf-8\") as f:\n",
    "        resultados = json.load(f)\n",
    "\n",
    "    nodos = [r[\"nodo_seleccionado\"] or \"Ninguno\" for r in resultados]\n",
    "    conteo = Counter(nodos).most_common(top_k)\n",
    "\n",
    "    etiquetas, valores = zip(*conteo)\n",
    "    fig, ax = plt.subplots(figsize=(8, 4))\n",
    "    ax.bar(etiquetas, valores, color=\"salmon\")\n",
    "    ax.set_ylabel(\"Frecuencia\")\n",
    "    ax.set_title(f\"Nodos más seleccionados (top {top_k})\")\n",
    "    plt.xticks(rotation=45, ha=\"right\")\n",
    "    plt.tight_layout()\n",
    "    plt.show()\n",
    "\n",
    "graficar_frecuencia_nodos()"
   ]
  },
  {
   "cell_type": "code",
   "execution_count": null,
   "id": "7f294462",
   "metadata": {},
   "outputs": [],
   "source": [
    "\n",
    "def graficar_scores_horizontal(json_path=\"results.json\"):\n",
    "    \"\"\"Barra horizontal de scores para mejor visibilidad de nombres largos\"\"\"\n",
    "    with open(json_path, \"r\", encoding=\"utf-8\") as f:\n",
    "        resultados = json.load(f)\n",
    "    nombres = [r[\"nombre\"] for r in resultados]\n",
    "    scores = [r[\"score\"] for r in resultados]\n",
    "    fig, ax = plt.subplots(figsize=(8, 6))\n",
    "    ax.barh(nombres, scores)\n",
    "    ax.set_xlabel(\"Score heurístico\")\n",
    "    ax.set_title(\"Scores de nodos seleccionados (horizontal)\")\n",
    "    plt.tight_layout()\n",
    "    plt.show()"
   ]
  }
 ],
 "metadata": {
  "kernelspec": {
   "display_name": "env",
   "language": "python",
   "name": "python3"
  },
  "language_info": {
   "codemirror_mode": {
    "name": "ipython",
    "version": 3
   },
   "file_extension": ".py",
   "mimetype": "text/x-python",
   "name": "python",
   "nbconvert_exporter": "python",
   "pygments_lexer": "ipython3",
   "version": "3.12.3"
  }
 },
 "nbformat": 4,
 "nbformat_minor": 5
}
